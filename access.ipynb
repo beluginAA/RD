{
 "cells": [
  {
   "cell_type": "code",
   "execution_count": 9,
   "metadata": {},
   "outputs": [
    {
     "data": {
      "text/plain": [
       "9949392"
      ]
     },
     "execution_count": 9,
     "metadata": {},
     "output_type": "execute_result"
    }
   ],
   "source": [
    "numbers = [9, 92, 93, 94]\n",
    "max_num = len(max(map(str, numbers), key = len))\n",
    "added_nums = [max_num - len(str(x)) for x in numbers]\n",
    "new_numbers = sorted([f'{str(i)}{\"i\"*j}' for i, j in zip(numbers, added_nums)], reverse = True)\n",
    "number = int(''.join([i for i in ''.join(new_numbers) if i.isnumeric()]))\n",
    "number"
   ]
  },
  {
   "cell_type": "code",
   "execution_count": 18,
   "metadata": {},
   "outputs": [
    {
     "data": {
      "text/plain": [
       "True"
      ]
     },
     "execution_count": 18,
     "metadata": {},
     "output_type": "execute_result"
    }
   ],
   "source": [
    "# print(f\"{'12':<{5}}|\")\n",
    "a = 'MK&'\n",
    "a.upper() == a"
   ]
  }
 ],
 "metadata": {
  "kernelspec": {
   "display_name": "Python 3",
   "language": "python",
   "name": "python3"
  },
  "language_info": {
   "codemirror_mode": {
    "name": "ipython",
    "version": 3
   },
   "file_extension": ".py",
   "mimetype": "text/x-python",
   "name": "python",
   "nbconvert_exporter": "python",
   "pygments_lexer": "ipython3",
   "version": "3.11.2"
  },
  "orig_nbformat": 4
 },
 "nbformat": 4,
 "nbformat_minor": 2
}
