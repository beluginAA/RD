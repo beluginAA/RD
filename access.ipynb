{
 "cells": [
  {
   "cell_type": "code",
   "execution_count": 45,
   "metadata": {},
   "outputs": [
    {
     "name": "stdout",
     "output_type": "stream",
     "text": [
      "Read excel files with current and new data\n",
      "Clear the empty rows in both dataframes\n",
      "Clear the unnecessary data in base dataframe\n",
      "Making copy of original dataframes\n"
     ]
    }
   ],
   "source": [
    "import pandas as pd  # module for working with data sets (need for working inner classes and modules)\n",
    "import traceback\n",
    "import datetime\n",
    "import subprocess\n",
    "import warnings\n",
    "import numpy as np\n",
    "import os  # module for working with operating system catalog structure\n",
    "import openpyxl  # module for working with Excel files\n",
    "import time  # module for working with date and time\n",
    "import pyodbc  # module for working with databases\n",
    "import win32com.client  # Module for generating MS access data base\n",
    "\n",
    "from datetime import datetime  # Module for working with date and time data\n",
    "from win32com.client import Dispatch  # Module for generating MS access data base\n",
    "from tkinter.filedialog import askopenfilename  # Module for open file with win gui\n",
    "\n",
    "# Ignoring pandas version errors\n",
    "warnings.simplefilter(action='ignore', category=(FutureWarning, UserWarning))\n",
    "\n",
    "# show an \"Open\" dialog box and return the path to the selected file\n",
    "filename_comp = askopenfilename(title=\"Select file for compare\", filetypes=[(\"excel files\", \"*.xlsx\")])\n",
    "database_root = askopenfilename(title=\"Select database\", filetypes=[('*.mdb', '*.accdb')]).replace('/', '\\\\')\n",
    "conn_str = (\n",
    "    r'DRIVER={Microsoft Access Driver (*.mdb, *.accdb)};'\n",
    "    fr'DBQ={database_root};'\n",
    "    )\n",
    "\n",
    "table = input(\"Input table's name : \")\n",
    "with pyodbc.connect(conn_str) as conn:\n",
    "    # Создаем курсор для выполнения запросов\n",
    "    query = f'''SELECT * FROM {table}'''\n",
    "    new_df = pd.read_sql(query, conn)\n",
    "\n",
    "columns = ['Коды работ по выпуску РД', 'Наименование объекта/комплекта РД']\n",
    "\n",
    "inf_columns = ['Наименование объекта/комплекта РД',\n",
    "               'Коды работ по выпуску РД', \n",
    "               'Пакет РД', \n",
    "               'Код KKS документа',\n",
    "               'Статус Заказчика', \n",
    "               'Текущая ревизия', \n",
    "               'Статус текущей ревизии',\n",
    "               'Дата выпуска РД по договору подрядчика',\n",
    "               'Дата выпуска РД по графику с Заказчиком',\n",
    "               'Дата статуса Заказчика',\n",
    "               'Ожидаемая дата выдачи РД в производство', \n",
    "               'Письма',\n",
    "               'Источник информации', \n",
    "               'Разработчики РД (актуальные)', \n",
    "               'Статус РД в 1С'\n",
    "               ]\n",
    "changed_cols = ['Коды работ по выпуску РД',\n",
    "        'Наименование объекта/комплекта РД',\n",
    "       'Код KKS документа',\n",
    "       'Пакет РД',\n",
    "       'Статус Заказчика', \n",
    "       'Текущая ревизия', \n",
    "       'Статус текущей ревизии',\n",
    "       'Дата выпуска РД по договору подрядчика',\n",
    "       'Дата выпуска РД по графику с Заказчиком', 'Дата статуса Заказчика',\n",
    "       'Ожидаемая дата выдачи РД в производство',\n",
    "       'Разработчики РД (актуальные)']\n",
    "\n",
    "base_columns = ['Система',\n",
    "                'Наименование объекта/комплекта РД',\n",
    "                'Коды работ по выпуску РД',\n",
    "                'Тип',\n",
    "                'Пакет РД',\t'Код KKS документа',\n",
    "                'Статус Заказчика',\n",
    "                'Текущая ревизия',\n",
    "                'Статус текущей ревизии',\n",
    "                'Дата выпуска РД по договору подрядчика',\n",
    "                'Дата выпуска РД по графику с Заказчиком',\n",
    "                'Дата статуса Заказчика',\t\n",
    "                'Ожидаемая дата выдачи РД в производство',\t\n",
    "                'Письма',\t\n",
    "                'Источник информации',\t\n",
    "                'Разработчики РД (актуальные)',\t\n",
    "                'Объект',\t\n",
    "                'WBS',\t\n",
    "                'КС',\t\n",
    "                'Примечания']\n",
    "\n",
    "# read Excel files with current and new data\n",
    "print('Read excel files with current and new data')\n",
    "base_df = pd.read_excel(filename_comp)\n",
    "new_df.columns = base_columns\n",
    "\n",
    "#  Clear the data in both dataframe\n",
    "print('Clear the empty rows in both dataframes')\n",
    "base_df = base_df.dropna(subset=['Коды работ по выпуску РД'])\n",
    "base_df['Разработчики РД (актуальные)'] = base_df['Разработчики РД (актуальные)'].apply(\n",
    "    lambda row: base_df['Разработчик РД'] if row is None else row\n",
    "    )\n",
    "\n",
    "# Removing unnecessary data\n",
    "print('Clear the unnecessary data in base dataframe')\n",
    "base_df = base_df.loc[(~base_df['Коды работ по выпуску РД'].str.contains('.C.'))]\n",
    "base_df = base_df.loc[((~base_df['Код KKS документа'].isin(['.KZ.', '.EK.', '.TZ.', '.KM.', '.GR.'])))]\n",
    "\n",
    "#  Making copy of original dataframes\n",
    "print('Making copy of original dataframes')\n",
    "base_df_copy = base_df.copy()\n",
    "new_df_copy = new_df.copy()\n",
    "\n"
   ]
  },
  {
   "cell_type": "code",
   "execution_count": 49,
   "metadata": {},
   "outputs": [
    {
     "name": "stdout",
     "output_type": "stream",
     "text": [
      "Merging two dataframes\n"
     ]
    },
    {
     "data": {
      "text/plain": [
       "0                     None\n",
       "1                     None\n",
       "2                     None\n",
       "3       00UGM.E.CY0.D-1000\n",
       "4       00UGM.E.B00.D-1030\n",
       "               ...        \n",
       "3895    10UKC.R.CF0.D-1060\n",
       "3896    02UYX.R.CF0.D-1060\n",
       "3897    02UYX.R.CF0.D-1050\n",
       "3898    02UYX.R.CFU.D-1040\n",
       "3899    02UYX.R.CF0.D-1020\n",
       "Name: Коды работ по выпуску РД, Length: 3900, dtype: object"
      ]
     },
     "execution_count": 49,
     "metadata": {},
     "output_type": "execute_result"
    }
   ],
   "source": [
    "#  Merging two dataframes dddd\n",
    "print('Merging two dataframes')\n",
    "missed_code = (new_df.merge(base_df,\n",
    "                           how='outer',\n",
    "                           on=['Коды работ по выпуску РД'],\n",
    "                           suffixes=['', '_new'], \n",
    "                           indicator=True))\n",
    "\n",
    "missed = missed_code[missed_code['_merge'] == 'left_only'].reset_index()[columns]\n",
    "cods = base_df['Коды работ по выпуску РД'].apply(lambda row: row if row not in new_df['Коды работ по выпуску РД'].unique() else None)"
   ]
  },
  {
   "cell_type": "code",
   "execution_count": 51,
   "metadata": {},
   "outputs": [
    {
     "data": {
      "text/plain": [
       "3       00UGM.E.CY0.D-1000\n",
       "4       00UGM.E.B00.D-1030\n",
       "5       00UGM.E.BJ0.D-1000\n",
       "6       00UGV.E.B00.D-1000\n",
       "7       00UGW.E.CY0.D-1000\n",
       "               ...        \n",
       "3895    10UKC.R.CF0.D-1060\n",
       "3896    02UYX.R.CF0.D-1060\n",
       "3897    02UYX.R.CF0.D-1050\n",
       "3898    02UYX.R.CFU.D-1040\n",
       "3899    02UYX.R.CF0.D-1020\n",
       "Name: Коды работ по выпуску РД, Length: 2263, dtype: object"
      ]
     },
     "execution_count": 51,
     "metadata": {},
     "output_type": "execute_result"
    }
   ],
   "source": [
    "cods[~cods.isna()]"
   ]
  }
 ],
 "metadata": {
  "kernelspec": {
   "display_name": "Python 3",
   "language": "python",
   "name": "python3"
  },
  "language_info": {
   "codemirror_mode": {
    "name": "ipython",
    "version": 3
   },
   "file_extension": ".py",
   "mimetype": "text/x-python",
   "name": "python",
   "nbconvert_exporter": "python",
   "pygments_lexer": "ipython3",
   "version": "3.11.2"
  },
  "orig_nbformat": 4
 },
 "nbformat": 4,
 "nbformat_minor": 2
}
